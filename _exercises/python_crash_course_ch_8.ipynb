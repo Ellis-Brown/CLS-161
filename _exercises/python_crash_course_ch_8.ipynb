{
 "cells": [
  {
   "cell_type": "markdown",
   "metadata": {},
   "source": [
    "# Python Crash Course Chapter 8\n",
    "\n",
    " > 8-1, 8-2, 8-3, 8-5, 8-6, 8-7\n",
    "\n",
    "Ellis Brown"
   ]
  },
  {
   "cell_type": "markdown",
   "metadata": {},
   "source": [
    "## 8-1. Message\n",
    "Write a function called display_message() that prints one sentence telling everyone what you are learning about in this chapter. Call the function, and make sure the message displays correctly. "
   ]
  },
  {
   "cell_type": "code",
   "execution_count": 2,
   "metadata": {},
   "outputs": [
    {
     "name": "stdout",
     "output_type": "stream",
     "text": [
      "I am learning about functions in this chapter.\n"
     ]
    }
   ],
   "source": [
    "def display_message():\n",
    "    print(\"I am learning about functions in this chapter.\")\n",
    "\n",
    "display_message()"
   ]
  },
  {
   "cell_type": "markdown",
   "metadata": {},
   "source": [
    "## 8-2. Favorite Book\n",
    "Write a function called favorite_book() that accepts one parameter, title. The function should print a message, such as One of my favorite books is Alice in Wonderland. Call the function, making sure to include a book title as an argument in the function call."
   ]
  },
  {
   "cell_type": "code",
   "execution_count": 17,
   "metadata": {},
   "outputs": [
    {
     "name": "stdout",
     "output_type": "stream",
     "text": [
      "My favorite book is Alice In Wonderland.\n"
     ]
    }
   ],
   "source": [
    "def favorite_book(title: str) -> None:\n",
    "    print(f\"My favorite book is {title.title()}.\")\n",
    "\n",
    "book_title = \"Alice in Wonderland\"\n",
    "favorite_book(book_title)"
   ]
  },
  {
   "cell_type": "markdown",
   "metadata": {},
   "source": [
    "## 8-3. T-Shirt\n",
    "Write a function called make_shirt() that accepts a size and the text of a message that should be printed on the shirt. The function should print a sentence summarizing the size of the shirt and the message printed on it.\n",
    "\n",
    "Call the function once using positional arguments to make a shirt. Call the function a second time using keyword arguments."
   ]
  },
  {
   "cell_type": "code",
   "execution_count": 8,
   "metadata": {},
   "outputs": [
    {
     "name": "stdout",
     "output_type": "stream",
     "text": [
      "Size: 4348, Text: I love python woohoo!\n",
      "Size: 4348, Text: I love python woohoo!\n",
      "Size: 4348, Text: I love python woohoo!\n"
     ]
    }
   ],
   "source": [
    "# Here is a fun example of \"typed python\" which accepts data types : )\n",
    "def make_shirt(size: int, text: str) -> None:\n",
    "    print(f\"Size: {size}, Text: {text}\")\n",
    "\n",
    "make_shirt(4348, \"I love python woohoo!\")\n",
    "make_shirt(text=\"I love python woohoo!\", size=4348)\n",
    "make_shirt(size=4348, text=\"I love python woohoo!\")\n"
   ]
  },
  {
   "cell_type": "markdown",
   "metadata": {},
   "source": [
    "## 8-5. Cities\n",
    "Write a function called describe_city() that accepts the name of a city and its country. The function should print a simple sentence, such as Reykjavik is in Iceland. Give the parameter for the country a default value. Call your function for three different cities, at least one of which is not in the default country."
   ]
  },
  {
   "cell_type": "code",
   "execution_count": 12,
   "metadata": {},
   "outputs": [
    {
     "name": "stdout",
     "output_type": "stream",
     "text": [
      "Toronto is in Canada.\n",
      "Vancouver is in Canada.\n",
      "New York is in USA.\n"
     ]
    }
   ],
   "source": [
    "def describe_city(city_name: str, country: str= \"Canada\") -> None:\n",
    "    print(f\"{city_name} is in {country}.\")\n",
    "\n",
    "describe_city(\"Toronto\")\n",
    "describe_city(\"Vancouver\")\n",
    "describe_city(\"New York\", \"USA\")"
   ]
  },
  {
   "cell_type": "markdown",
   "metadata": {},
   "source": [
    "## 8-6. City Names\n",
    "Write a function called city_country() that takes in the name of a city and its country. The function should return a string formatted like this:\n",
    "\n",
    "\"Santiago, Chile\"\n",
    "\n",
    "Call your function with at least three city-country pairs, and print the values that are returned."
   ]
  },
  {
   "cell_type": "code",
   "execution_count": 13,
   "metadata": {},
   "outputs": [
    {
     "data": {
      "text/plain": [
       "'Toronto, Canada'"
      ]
     },
     "execution_count": 13,
     "metadata": {},
     "output_type": "execute_result"
    }
   ],
   "source": [
    "def city_country(city_name: str, country: str) -> str:\n",
    "    return f\"{city_name}, {country}\"\n",
    "\n",
    "city_country(\"Bangalore\", \"India\")\n",
    "city_country(\"San Francisco\", \"USA\")\n",
    "city_country(\"Toronto\", \"Canada\")"
   ]
  },
  {
   "cell_type": "markdown",
   "metadata": {},
   "source": [
    "## 8-7. Album\n",
    "Write a function called make_album() that builds a dictionary describing a music album. The function should take in an artist name and an album title, and it should return a dictionary containing these two pieces of information. Use the function to make three dictionaries representing different albums. Print each return value to show that the dictionaries are storing the album information correctly.\n",
    "\n",
    "Use None to add an optional parameter to make_album() that allows you to store the number of songs on an album. If the calling line includes a value for the number of songs, add that value to the album’s dictionary. Make at least one new function call that includes the number of songs on an album."
   ]
  },
  {
   "cell_type": "code",
   "execution_count": 15,
   "metadata": {},
   "outputs": [
    {
     "name": "stdout",
     "output_type": "stream",
     "text": [
      "{'artist': 'GreenDay', 'album': 'Dookie'}\n",
      "{'artist': 'GreenDay', 'album': 'Dookie', 'num_songs': 14}\n",
      "{'artist': 'GreenDay', 'album': 'American Idiot', 'num_songs': 12}\n"
     ]
    }
   ],
   "source": [
    "def make_album(artist_name: str, album_title: str, num_songs: int = None) -> dict:\n",
    "    if num_songs:\n",
    "        return {\"artist\": artist_name, \"album\": album_title, \"num_songs\": num_songs}\n",
    "    else:\n",
    "        return {\"artist\": artist_name, \"album\": album_title}\n",
    "\n",
    "print(make_album(\"GreenDay\", \"Dookie\"))\n",
    "print(make_album(\"GreenDay\", \"Dookie\", 14))\n",
    "print(make_album(\"GreenDay\", \"American Idiot\", 12))"
   ]
  },
  {
   "cell_type": "code",
   "execution_count": null,
   "metadata": {},
   "outputs": [],
   "source": []
  }
 ],
 "metadata": {
  "kernelspec": {
   "display_name": "Python 3.9.12 ('base')",
   "language": "python",
   "name": "python3"
  },
  "language_info": {
   "codemirror_mode": {
    "name": "ipython",
    "version": 3
   },
   "file_extension": ".py",
   "mimetype": "text/x-python",
   "name": "python",
   "nbconvert_exporter": "python",
   "pygments_lexer": "ipython3",
   "version": "3.9.12"
  },
  "vscode": {
   "interpreter": {
    "hash": "3d597f4c481aa0f25dceb95d2a0067e73c0966dcbd003d741d821a7208527ecf"
   }
  }
 },
 "nbformat": 4,
 "nbformat_minor": 4
}
